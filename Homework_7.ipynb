{
 "cells": [
  {
   "cell_type": "markdown",
   "metadata": {
    "collapsed": true
   },
   "source": [
    "EXC#1"
   ]
  },
  {
   "cell_type": "code",
   "execution_count": 3,
   "metadata": {
    "collapsed": true
   },
   "outputs": [],
   "source": [
    "from selenium import webdriver\n",
    "from selenium.webdriver.support.ui import Select\n",
    "import pandas as pd\n",
    "import csv\n",
    "browser = webdriver.Chrome()\n",
    "url = \"http://rate.am/en/armenian-dram-exchange-rates/banks/non-cash\"\n",
    "browser.get(url)"
   ]
  },
  {
   "cell_type": "code",
   "execution_count": 4,
   "metadata": {
    "collapsed": false
   },
   "outputs": [],
   "source": [
    "all_dates=browser.find_element_by_css_selector('#aspnetForm > div.cnt > div.cnt-body > div.cnt-left > div.rb-de > div.archive > table > tbody > tr > td:nth-child(1) > a')\n",
    "all_dates.click()"
   ]
  },
  {
   "cell_type": "code",
   "execution_count": 6,
   "metadata": {
    "collapsed": false
   },
   "outputs": [],
   "source": [
    "year=browser.find_element_by_css_selector('#calBorder > span > table > tbody > tr:nth-child(1) > td > table > tbody > tr > td:nth-child(2) > select')\n",
    "select_1 = Select(year)\n",
    "select_1.select_by_visible_text('2016')"
   ]
  },
  {
   "cell_type": "code",
   "execution_count": 7,
   "metadata": {
    "collapsed": true
   },
   "outputs": [],
   "source": [
    "month=browser.find_element_by_css_selector('#calBorder > span > table > tbody > tr:nth-child(1) > td > table > tbody > tr > td:nth-child(1) > select')\n",
    "select_2 = Select(month)\n",
    "select_2.select_by_visible_text('July')"
   ]
  },
  {
   "cell_type": "code",
   "execution_count": 9,
   "metadata": {
    "collapsed": false
   },
   "outputs": [],
   "source": [
    "j_20=browser.find_element_by_css_selector('#calBorder > span > table > tbody > tr:nth-child(3) > td > table > tbody > tr:nth-child(5) > td:nth-child(3)')\n",
    "j_20.click()"
   ]
  },
  {
   "cell_type": "code",
   "execution_count": 10,
   "metadata": {
    "collapsed": true
   },
   "outputs": [],
   "source": [
    "result=browser.find_element_by_css_selector('#ctl00_Content_RB_dtpick1_btnOk')\n",
    "result.click()"
   ]
  },
  {
   "cell_type": "code",
   "execution_count": 11,
   "metadata": {
    "collapsed": false
   },
   "outputs": [],
   "source": [
    "raw_data = pd.read_html(browser.find_element_by_class_name(\"rb\").get_attribute('outerHTML'))\n",
    "new_data = raw_data[0]\n",
    "clean_data = new_data[2:19]"
   ]
  },
  {
   "cell_type": "code",
   "execution_count": 12,
   "metadata": {
    "collapsed": true
   },
   "outputs": [],
   "source": [
    "del clean_data[0]\n",
    "del clean_data[2]\n",
    "del clean_data[3]"
   ]
  },
  {
   "cell_type": "code",
   "execution_count": 13,
   "metadata": {
    "collapsed": false
   },
   "outputs": [],
   "source": [
    "clean_data.columns = [\"Bank\", \"Date\", \"USD_buy\", \"USD_sell\", \"EUR_buy\", \"EUR_sell\", \"RUB_buy\", \"RUB_sell\", \"GBP_buy\", \"GBP_sell\"]"
   ]
  },
  {
   "cell_type": "code",
   "execution_count": 14,
   "metadata": {
    "collapsed": false
   },
   "outputs": [
    {
     "data": {
      "text/html": [
       "<div>\n",
       "<table border=\"1\" class=\"dataframe\">\n",
       "  <thead>\n",
       "    <tr style=\"text-align: right;\">\n",
       "      <th></th>\n",
       "      <th>Bank</th>\n",
       "      <th>Date</th>\n",
       "      <th>USD_buy</th>\n",
       "      <th>USD_sell</th>\n",
       "      <th>EUR_buy</th>\n",
       "      <th>EUR_sell</th>\n",
       "      <th>RUB_buy</th>\n",
       "      <th>RUB_sell</th>\n",
       "      <th>GBP_buy</th>\n",
       "      <th>GBP_sell</th>\n",
       "    </tr>\n",
       "  </thead>\n",
       "  <tbody>\n",
       "    <tr>\n",
       "      <th>2</th>\n",
       "      <td>Արցախբանկ</td>\n",
       "      <td>20 Jul, 20:00</td>\n",
       "      <td>475</td>\n",
       "      <td>478</td>\n",
       "      <td>520</td>\n",
       "      <td>528.0</td>\n",
       "      <td>7.35</td>\n",
       "      <td>7.70</td>\n",
       "      <td>616.0</td>\n",
       "      <td>631.0</td>\n",
       "    </tr>\n",
       "    <tr>\n",
       "      <th>3</th>\n",
       "      <td>ՀԱՅԲԻԶՆԵՍԲԱՆԿ ՓԲԸ</td>\n",
       "      <td>20 Jul, 20:00</td>\n",
       "      <td>474</td>\n",
       "      <td>477</td>\n",
       "      <td>520.10</td>\n",
       "      <td>527.1</td>\n",
       "      <td>7.41</td>\n",
       "      <td>7.67</td>\n",
       "      <td>617.1</td>\n",
       "      <td>629.1</td>\n",
       "    </tr>\n",
       "    <tr>\n",
       "      <th>4</th>\n",
       "      <td>Էյչ-Էս-Բի-Սի Բանկ</td>\n",
       "      <td>20 Jul, 20:00</td>\n",
       "      <td>473.50</td>\n",
       "      <td>478.50</td>\n",
       "      <td>519</td>\n",
       "      <td>529.0</td>\n",
       "      <td>7.36</td>\n",
       "      <td>7.67</td>\n",
       "      <td>618.5</td>\n",
       "      <td>630.5</td>\n",
       "    </tr>\n",
       "    <tr>\n",
       "      <th>5</th>\n",
       "      <td>Անելիք Բանկ</td>\n",
       "      <td>20 Jul, 20:00</td>\n",
       "      <td>474</td>\n",
       "      <td>477.50</td>\n",
       "      <td>517</td>\n",
       "      <td>528.0</td>\n",
       "      <td>7.35</td>\n",
       "      <td>7.65</td>\n",
       "      <td>NaN</td>\n",
       "      <td>NaN</td>\n",
       "    </tr>\n",
       "    <tr>\n",
       "      <th>6</th>\n",
       "      <td>Յունիբանկ</td>\n",
       "      <td>20 Jul, 20:00</td>\n",
       "      <td>473.50</td>\n",
       "      <td>478</td>\n",
       "      <td>519</td>\n",
       "      <td>531.0</td>\n",
       "      <td>7.40</td>\n",
       "      <td>7.80</td>\n",
       "      <td>610.0</td>\n",
       "      <td>640.0</td>\n",
       "    </tr>\n",
       "    <tr>\n",
       "      <th>7</th>\n",
       "      <td>Կոնվերս բանկ</td>\n",
       "      <td>20 Jul, 20:00</td>\n",
       "      <td>475</td>\n",
       "      <td>478</td>\n",
       "      <td>520</td>\n",
       "      <td>527.0</td>\n",
       "      <td>7.43</td>\n",
       "      <td>7.77</td>\n",
       "      <td>619.0</td>\n",
       "      <td>628.0</td>\n",
       "    </tr>\n",
       "    <tr>\n",
       "      <th>8</th>\n",
       "      <td>Բիբլոս Բանկ Արմենիա</td>\n",
       "      <td>20 Jul, 20:00</td>\n",
       "      <td>474</td>\n",
       "      <td>478.50</td>\n",
       "      <td>519</td>\n",
       "      <td>530.0</td>\n",
       "      <td>7.38</td>\n",
       "      <td>7.65</td>\n",
       "      <td>615.0</td>\n",
       "      <td>634.0</td>\n",
       "    </tr>\n",
       "    <tr>\n",
       "      <th>9</th>\n",
       "      <td>Արմսվիսբանկ</td>\n",
       "      <td>20 Jul, 20:00</td>\n",
       "      <td>474.50</td>\n",
       "      <td>477.50</td>\n",
       "      <td>521</td>\n",
       "      <td>528.0</td>\n",
       "      <td>7.42</td>\n",
       "      <td>7.62</td>\n",
       "      <td>620.0</td>\n",
       "      <td>628.0</td>\n",
       "    </tr>\n",
       "    <tr>\n",
       "      <th>10</th>\n",
       "      <td>ԱԿԲԱ-ԿՐԵԴԻՏ ԱԳՐԻԿՈԼ ..</td>\n",
       "      <td>20 Jul, 20:00</td>\n",
       "      <td>473.50</td>\n",
       "      <td>477.50</td>\n",
       "      <td>519.50</td>\n",
       "      <td>527.5</td>\n",
       "      <td>7.43</td>\n",
       "      <td>7.59</td>\n",
       "      <td>620.0</td>\n",
       "      <td>635.0</td>\n",
       "    </tr>\n",
       "    <tr>\n",
       "      <th>11</th>\n",
       "      <td>Ամերիաբանկ</td>\n",
       "      <td>20 Jul, 20:00</td>\n",
       "      <td>473.50</td>\n",
       "      <td>477.50</td>\n",
       "      <td>519</td>\n",
       "      <td>529.0</td>\n",
       "      <td>7.37</td>\n",
       "      <td>7.62</td>\n",
       "      <td>621.5</td>\n",
       "      <td>631.5</td>\n",
       "    </tr>\n",
       "    <tr>\n",
       "      <th>12</th>\n",
       "      <td>Արդշինբանկ</td>\n",
       "      <td>20 Jul, 20:00</td>\n",
       "      <td>474</td>\n",
       "      <td>478</td>\n",
       "      <td>518</td>\n",
       "      <td>530.0</td>\n",
       "      <td>7.35</td>\n",
       "      <td>7.65</td>\n",
       "      <td>615.0</td>\n",
       "      <td>645.0</td>\n",
       "    </tr>\n",
       "    <tr>\n",
       "      <th>13</th>\n",
       "      <td>ՎՏԲ-Հայաստան Բանկ</td>\n",
       "      <td>20 Jul, 20:00</td>\n",
       "      <td>474</td>\n",
       "      <td>477.50</td>\n",
       "      <td>519</td>\n",
       "      <td>525.5</td>\n",
       "      <td>7.42</td>\n",
       "      <td>7.55</td>\n",
       "      <td>618.0</td>\n",
       "      <td>630.0</td>\n",
       "    </tr>\n",
       "    <tr>\n",
       "      <th>14</th>\n",
       "      <td>ԱՐԱՐԱՏԲԱՆԿ</td>\n",
       "      <td>20 Jul, 20:00</td>\n",
       "      <td>474</td>\n",
       "      <td>477.50</td>\n",
       "      <td>516</td>\n",
       "      <td>530.0</td>\n",
       "      <td>7.40</td>\n",
       "      <td>7.75</td>\n",
       "      <td>616.0</td>\n",
       "      <td>633.0</td>\n",
       "    </tr>\n",
       "    <tr>\n",
       "      <th>15</th>\n",
       "      <td>Պրոմեթեյ Բանկ</td>\n",
       "      <td>20 Jul, 20:00</td>\n",
       "      <td>475</td>\n",
       "      <td>477</td>\n",
       "      <td>521</td>\n",
       "      <td>527.0</td>\n",
       "      <td>7.44</td>\n",
       "      <td>7.67</td>\n",
       "      <td>619.0</td>\n",
       "      <td>629.0</td>\n",
       "    </tr>\n",
       "    <tr>\n",
       "      <th>16</th>\n",
       "      <td>ՀԱՅԷԿՈՆՈՄԲԱՆԿ</td>\n",
       "      <td>20 Jul, 20:00</td>\n",
       "      <td>473.50</td>\n",
       "      <td>477.50</td>\n",
       "      <td>517</td>\n",
       "      <td>527.0</td>\n",
       "      <td>7.43</td>\n",
       "      <td>7.80</td>\n",
       "      <td>616.0</td>\n",
       "      <td>642.0</td>\n",
       "    </tr>\n",
       "    <tr>\n",
       "      <th>17</th>\n",
       "      <td>Ինեկոբանկ</td>\n",
       "      <td>20 Jul, 20:00</td>\n",
       "      <td>475</td>\n",
       "      <td>477.75</td>\n",
       "      <td>519.50</td>\n",
       "      <td>527.5</td>\n",
       "      <td>7.38</td>\n",
       "      <td>7.60</td>\n",
       "      <td>619.0</td>\n",
       "      <td>633.0</td>\n",
       "    </tr>\n",
       "    <tr>\n",
       "      <th>18</th>\n",
       "      <td>Մելլաթ բանկ</td>\n",
       "      <td>20 Jul, 20:00</td>\n",
       "      <td>473.50</td>\n",
       "      <td>477.50</td>\n",
       "      <td>519</td>\n",
       "      <td>529.0</td>\n",
       "      <td>NaN</td>\n",
       "      <td>NaN</td>\n",
       "      <td>NaN</td>\n",
       "      <td>NaN</td>\n",
       "    </tr>\n",
       "  </tbody>\n",
       "</table>\n",
       "</div>"
      ],
      "text/plain": [
       "                      Bank           Date USD_buy USD_sell EUR_buy  EUR_sell  \\\n",
       "2                Արցախբանկ  20 Jul, 20:00     475      478     520     528.0   \n",
       "3        ՀԱՅԲԻԶՆԵՍԲԱՆԿ ՓԲԸ  20 Jul, 20:00     474      477  520.10     527.1   \n",
       "4        Էյչ-Էս-Բի-Սի Բանկ  20 Jul, 20:00  473.50   478.50     519     529.0   \n",
       "5              Անելիք Բանկ  20 Jul, 20:00     474   477.50     517     528.0   \n",
       "6                Յունիբանկ  20 Jul, 20:00  473.50      478     519     531.0   \n",
       "7             Կոնվերս բանկ  20 Jul, 20:00     475      478     520     527.0   \n",
       "8      Բիբլոս Բանկ Արմենիա  20 Jul, 20:00     474   478.50     519     530.0   \n",
       "9              Արմսվիսբանկ  20 Jul, 20:00  474.50   477.50     521     528.0   \n",
       "10  ԱԿԲԱ-ԿՐԵԴԻՏ ԱԳՐԻԿՈԼ ..  20 Jul, 20:00  473.50   477.50  519.50     527.5   \n",
       "11              Ամերիաբանկ  20 Jul, 20:00  473.50   477.50     519     529.0   \n",
       "12              Արդշինբանկ  20 Jul, 20:00     474      478     518     530.0   \n",
       "13       ՎՏԲ-Հայաստան Բանկ  20 Jul, 20:00     474   477.50     519     525.5   \n",
       "14              ԱՐԱՐԱՏԲԱՆԿ  20 Jul, 20:00     474   477.50     516     530.0   \n",
       "15           Պրոմեթեյ Բանկ  20 Jul, 20:00     475      477     521     527.0   \n",
       "16           ՀԱՅԷԿՈՆՈՄԲԱՆԿ  20 Jul, 20:00  473.50   477.50     517     527.0   \n",
       "17               Ինեկոբանկ  20 Jul, 20:00     475   477.75  519.50     527.5   \n",
       "18             Մելլաթ բանկ  20 Jul, 20:00  473.50   477.50     519     529.0   \n",
       "\n",
       "    RUB_buy  RUB_sell  GBP_buy  GBP_sell  \n",
       "2      7.35      7.70    616.0     631.0  \n",
       "3      7.41      7.67    617.1     629.1  \n",
       "4      7.36      7.67    618.5     630.5  \n",
       "5      7.35      7.65      NaN       NaN  \n",
       "6      7.40      7.80    610.0     640.0  \n",
       "7      7.43      7.77    619.0     628.0  \n",
       "8      7.38      7.65    615.0     634.0  \n",
       "9      7.42      7.62    620.0     628.0  \n",
       "10     7.43      7.59    620.0     635.0  \n",
       "11     7.37      7.62    621.5     631.5  \n",
       "12     7.35      7.65    615.0     645.0  \n",
       "13     7.42      7.55    618.0     630.0  \n",
       "14     7.40      7.75    616.0     633.0  \n",
       "15     7.44      7.67    619.0     629.0  \n",
       "16     7.43      7.80    616.0     642.0  \n",
       "17     7.38      7.60    619.0     633.0  \n",
       "18      NaN       NaN      NaN       NaN  "
      ]
     },
     "execution_count": 14,
     "metadata": {},
     "output_type": "execute_result"
    }
   ],
   "source": [
    "clean_data"
   ]
  },
  {
   "cell_type": "code",
   "execution_count": 15,
   "metadata": {
    "collapsed": false
   },
   "outputs": [],
   "source": [
    "import csv\n",
    "from unicodecsv import *\n",
    "with open(\"rates.csv\",\"w\") as f:\n",
    "            clean_data.to_csv(f, header=True, index=False, encoding='utf-8')"
   ]
  },
  {
   "cell_type": "code",
   "execution_count": 16,
   "metadata": {
    "collapsed": true
   },
   "outputs": [],
   "source": [
    "browser.close()"
   ]
  },
  {
   "cell_type": "markdown",
   "metadata": {
    "collapsed": true
   },
   "source": [
    "EXC#2"
   ]
  },
  {
   "cell_type": "code",
   "execution_count": 17,
   "metadata": {
    "collapsed": true
   },
   "outputs": [],
   "source": [
    "from selenium import webdriver\n",
    "browser = webdriver.Chrome()\n",
    "url = \"https://staff.am/en\"\n",
    "browser.get(url)"
   ]
  },
  {
   "cell_type": "code",
   "execution_count": 18,
   "metadata": {
    "collapsed": true
   },
   "outputs": [],
   "source": [
    "from BeautifulSoup import * \n",
    "trainings=browser.find_element_by_css_selector('#menu-header > li:nth-child(2) > a')\n",
    "trainings.click()\n",
    "soup = browser.page_source\n",
    "page_2 = browser.find_element_by_css_selector('#job-list-pagination > ul > li:nth-child(3) > a')\n",
    "page_2.click()\n",
    "soup_1=browser.page_source\n",
    "page_3 = browser.find_element_by_css_selector('#job-list-pagination > ul > li:nth-child(4) > a')\n",
    "page_3.click()\n",
    "soup_2=browser.page_source\n",
    "browser.close()"
   ]
  },
  {
   "cell_type": "code",
   "execution_count": 19,
   "metadata": {
    "collapsed": false
   },
   "outputs": [],
   "source": [
    "all_trainings=[]\n",
    "soups=[soup,soup_1,soup_2]\n",
    "for i in soups:\n",
    "    new_soup = BeautifulSoup(i)\n",
    "    titls=new_soup.findAll('div',attrs={'class':\"job-inner training-item-title\"})    \n",
    "    for i in titls:\n",
    "        if i.find('span')==None:\n",
    "            all_trainings.append(i.find('h4').text +\" - \" +i.find('p').text + \"- \"+ \"0 AMD\")\n",
    "        else:\n",
    "            all_trainings.append(i.find('h4').text +\" - \" +i.find('p').text + \"- \"+ i.find('span').text + \" AMD\")\n",
    "x=str(all_trainings)"
   ]
  },
  {
   "cell_type": "code",
   "execution_count": 20,
   "metadata": {
    "collapsed": false
   },
   "outputs": [
    {
     "name": "stdout",
     "output_type": "stream",
     "text": [
      "['57500', '0', '84000', '48000', '50000', '69000', '0', '0', '0', '0', '0', '0', '0', '73000', '52000', '96000', '45000', '96000', '125000', '4800', '0', '0', '0']\n"
     ]
    }
   ],
   "source": [
    "import re\n",
    "xx=re.sub(r',', r'',x)\n",
    "xxx=re.findall('-\\s([0-9]+)',xx)\n",
    "print(xxx)"
   ]
  },
  {
   "cell_type": "code",
   "execution_count": 21,
   "metadata": {
    "collapsed": true
   },
   "outputs": [],
   "source": [
    "prices=[]\n",
    "for i in xxx:\n",
    "    prices.append(int(i))"
   ]
  },
  {
   "cell_type": "code",
   "execution_count": 22,
   "metadata": {
    "collapsed": true
   },
   "outputs": [],
   "source": [
    "av_price=sum(prices)/len(prices)"
   ]
  },
  {
   "cell_type": "code",
   "execution_count": 23,
   "metadata": {
    "collapsed": false
   },
   "outputs": [
    {
     "data": {
      "text/plain": [
       "34795"
      ]
     },
     "execution_count": 23,
     "metadata": {},
     "output_type": "execute_result"
    }
   ],
   "source": [
    "av_price"
   ]
  },
  {
   "cell_type": "markdown",
   "metadata": {},
   "source": [
    "EXC#3"
   ]
  },
  {
   "cell_type": "code",
   "execution_count": 24,
   "metadata": {
    "collapsed": true
   },
   "outputs": [],
   "source": [
    "from selenium import webdriver\n",
    "browser = webdriver.Chrome()\n",
    "url = \"https://www.cba.am/EN/SitePages/Default.aspx\"\n",
    "browser.get(url)"
   ]
  },
  {
   "cell_type": "code",
   "execution_count": 26,
   "metadata": {
    "collapsed": false
   },
   "outputs": [
    {
     "name": "stdout",
     "output_type": "stream",
     "text": [
      "478.85\n"
     ]
    }
   ],
   "source": [
    "rate_USD=browser.find_element_by_css_selector('#ctl00_PlaceHolderMain_g_863d4f31_7343_4804_bedb_aa7f55c1305a_updatePanelctl00_PlaceHolderMain_g_863d4f31_7343_4804_bedb_aa7f55c1305a > li.gray_2 > em:nth-child(3)')\n",
    "print(rate_USD.text)"
   ]
  },
  {
   "cell_type": "code",
   "execution_count": 27,
   "metadata": {
    "collapsed": true
   },
   "outputs": [],
   "source": [
    "browser.close()"
   ]
  },
  {
   "cell_type": "code",
   "execution_count": null,
   "metadata": {
    "collapsed": true
   },
   "outputs": [],
   "source": []
  }
 ],
 "metadata": {
  "kernelspec": {
   "display_name": "Python 2",
   "language": "python",
   "name": "python2"
  },
  "language_info": {
   "codemirror_mode": {
    "name": "ipython",
    "version": 2
   },
   "file_extension": ".py",
   "mimetype": "text/x-python",
   "name": "python",
   "nbconvert_exporter": "python",
   "pygments_lexer": "ipython2",
   "version": "2.7.13"
  }
 },
 "nbformat": 4,
 "nbformat_minor": 2
}
